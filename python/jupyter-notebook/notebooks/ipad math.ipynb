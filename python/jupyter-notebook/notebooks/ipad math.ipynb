{
 "cells": [
  {
   "cell_type": "code",
   "execution_count": 9,
   "id": "2070ff42",
   "metadata": {},
   "outputs": [],
   "source": [
    "import numpy as np\n",
    "import math"
   ]
  },
  {
   "cell_type": "markdown",
   "id": "4cd456e3",
   "metadata": {},
   "source": [
    "2u   2\n",
    "-2    -2v"
   ]
  },
  {
   "cell_type": "code",
   "execution_count": null,
   "id": "2eaef65d",
   "metadata": {},
   "outputs": [],
   "source": []
  },
  {
   "cell_type": "code",
   "execution_count": null,
   "id": "fb181105",
   "metadata": {},
   "outputs": [],
   "source": [
    "a1=[   ]\n",
    "a2=[    ]\n",
    "x=np.array([[     ]]).transpose()\n",
    "A= np.arrar([a1,a2]).transpose()\n",
    "t1=np.matmul(A.transpose(), x)\n",
    "t2= np.linalg.inv(np.matmul(A.transpose(), A))\n",
    "t3= np.matmul(t2, t1)\n",
    "t4=np.matmul(A, t3)\n",
    "t4"
   ]
  },
  {
   "cell_type": "code",
   "execution_count": null,
   "id": "74e55bd3",
   "metadata": {},
   "outputs": [],
   "source": [
    "a1=[ 1,1,1,1,1   ]\n",
    "a2=[ -15,-10,-5,0,5   ]\n",
    "\n",
    "x1=[   -6,-3,0,4,6 ]\n",
    "\n",
    "x=np.array([x1]).transpose()\n",
    "A= np.array([a1,a2]).transpose()\n",
    "t1=np.matmul(A.transpose(), x)\n",
    "print(t1)\n",
    "t2= np.linalg.inv(np.matmul(A.transpose(), A))\n",
    "print(t2)\n",
    "t3= np.matmul(t2, t1)\n",
    "t4=np.matmul(A, t3)\n",
    "print(\"projection:\")\n",
    "print(t4)\n",
    "print(\"vertical distance\")\n",
    "print(x-t4)\n",
    "v=x-t4\n",
    "print(np.linalg.norm(v))\n",
    "print(math.acos(np.linalg.norm(v)/np.linalg.norm(x))*180/math.pi)"
   ]
  },
  {
   "cell_type": "code",
   "execution_count": 28,
   "id": "bc326b98",
   "metadata": {
    "scrolled": true
   },
   "outputs": [
    {
     "data": {
      "text/plain": [
       "0.08861903482510591"
      ]
     },
     "execution_count": 28,
     "metadata": {},
     "output_type": "execute_result"
    }
   ],
   "source": [
    "math.acos(0)*180/math.pi\n",
    "n=30\n",
    "p=0.38\n",
    "math.sqrt(p*(1-p)/n)"
   ]
  },
  {
   "cell_type": "markdown",
   "id": "ea4bbe48",
   "metadata": {},
   "source": [
    "sin(y) *(sin x + cos y) + (sin x - cos y)(sin y)\n",
    "\n",
    "-5,2,3\n",
    "1,-2,1\n",
    "\n",
    "3,2,-5\n",
    "\n",
    "\n",
    "5,2\n",
    "2,5\n",
    "\n",
    "\n",
    "1,0,-1\n",
    "\n",
    "-1,1,0\n",
    "1,-1,0\n",
    "0,0,-1\n",
    "\n",
    "\n"
   ]
  },
  {
   "cell_type": "code",
   "execution_count": 38,
   "id": "fc66f061",
   "metadata": {
    "scrolled": true
   },
   "outputs": [
    {
     "name": "stdout",
     "output_type": "stream",
     "text": [
      "[[-1.17588947]\n",
      " [ 1.33333333]\n",
      " [ 3.11111111]\n",
      " [ 1.77777778]]\n",
      "[[64.]]\n",
      "[[16.]]\n"
     ]
    }
   ],
   "source": [
    "v1=[    math.sqrt(7),  7,2,2    ]\n",
    "w1=  [  -math.sqrt(7),  3,7,4    ]\n",
    "\n",
    "v=np.array([v1]).transpose()\n",
    "w=np.array([w1]).transpose()\n",
    "k=np.matmul(v.transpose(), w)\n",
    "k2=np.matmul(w.transpose(), w)\n",
    "wp=(k/k2)*w\n",
    "print(wp)\n",
    "l1=np.matmul(v.transpose(), v)\n",
    "l2=np.matmul(wp.transpose(),wp)\n",
    "print(l1)\n",
    "print(l2)\n",
    "\n",
    "\n",
    "\n",
    "\n"
   ]
  },
  {
   "cell_type": "code",
   "execution_count": null,
   "id": "e63209fa",
   "metadata": {},
   "outputs": [],
   "source": [
    "\n",
    "math.e\n",
    "\n"
   ]
  }
 ],
 "metadata": {
  "kernelspec": {
   "display_name": "Python 3 (ipykernel)",
   "language": "python",
   "name": "python3"
  },
  "language_info": {
   "codemirror_mode": {
    "name": "ipython",
    "version": 3
   },
   "file_extension": ".py",
   "mimetype": "text/x-python",
   "name": "python",
   "nbconvert_exporter": "python",
   "pygments_lexer": "ipython3",
   "version": "3.11.10"
  }
 },
 "nbformat": 4,
 "nbformat_minor": 5
}
