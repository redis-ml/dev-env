{
 "cells": [
  {
   "cell_type": "code",
   "execution_count": 9,
   "id": "2070ff42",
   "metadata": {},
   "outputs": [],
   "source": [
    "import numpy as np\n",
    "import math"
   ]
  },
  {
   "cell_type": "code",
   "execution_count": null,
   "id": "fb181105",
   "metadata": {},
   "outputs": [],
   "source": [
    "a1=[   ]\n",
    "a2=[    ]\n",
    "x=np.array([[     ]]).transpose()\n",
    "A= np.arrar([a1,a2]).transpose()\n",
    "t1=np.matmul(A.transpose(), x)\n",
    "t2= np.linalg.inv(np.matmul(A.transpose(), A))\n",
    "t3= np.matmul(t2, t1)\n",
    "t4=np.matmul(A, t3)\n",
    "t4"
   ]
  },
  {
   "cell_type": "code",
   "execution_count": 19,
   "id": "74e55bd3",
   "metadata": {},
   "outputs": [
    {
     "name": "stdout",
     "output_type": "stream",
     "text": [
      "projection:\n",
      "[[-9.]\n",
      " [ 3.]\n",
      " [-5.]]\n",
      "vertical distance\n",
      "[[ 1.]\n",
      " [-2.]\n",
      " [-3.]]\n",
      "3.7416573867739418\n",
      "70.76554058547269\n"
     ]
    }
   ],
   "source": [
    "a1=[ 2,1,0]\n",
    "a2=[ 3,0,1]\n",
    "\n",
    "x1=[-8,1,-8]\n",
    "\n",
    "x=np.array([x1]).transpose()\n",
    "A= np.array([a1,a2]).transpose()\n",
    "t1=np.matmul(A.transpose(), x)\n",
    "t2= np.linalg.inv(np.matmul(A.transpose(), A))\n",
    "t3= np.matmul(t2, t1)\n",
    "t4=np.matmul(A, t3)\n",
    "print(\"projection:\")\n",
    "print(t4)\n",
    "print(\"vertical distance\")\n",
    "print(x-t4)\n",
    "v=x-t4\n",
    "print(np.linalg.norm(v))\n",
    "print(math.acos(np.linalg.norm(v)/np.linalg.norm(x))*180/math.pi)"
   ]
  },
  {
   "cell_type": "code",
   "execution_count": 14,
   "id": "bc326b98",
   "metadata": {},
   "outputs": [
    {
     "data": {
      "text/plain": [
       "90.0"
      ]
     },
     "execution_count": 14,
     "metadata": {},
     "output_type": "execute_result"
    }
   ],
   "source": [
    "math.acos(0)*180/math.pi"
   ]
  },
  {
   "cell_type": "code",
   "execution_count": null,
   "id": "ee943602",
   "metadata": {},
   "outputs": [],
   "source": []
  }
 ],
 "metadata": {
  "kernelspec": {
   "display_name": "Python 3 (ipykernel)",
   "language": "python",
   "name": "python3"
  },
  "language_info": {
   "codemirror_mode": {
    "name": "ipython",
    "version": 3
   },
   "file_extension": ".py",
   "mimetype": "text/x-python",
   "name": "python",
   "nbconvert_exporter": "python",
   "pygments_lexer": "ipython3",
   "version": "3.11.10"
  }
 },
 "nbformat": 4,
 "nbformat_minor": 5
}
